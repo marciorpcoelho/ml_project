{
 "cells": [
  {
   "cell_type": "code",
   "execution_count": 2,
   "metadata": {},
   "outputs": [],
   "source": [
    "import pandas as pd\n",
    "import numpy as np\n",
    "import matplotlib.pyplot as plt"
   ]
  },
  {
   "cell_type": "code",
   "execution_count": 3,
   "metadata": {},
   "outputs": [],
   "source": [
    "df = pd.read_csv('DatasetML.csv')"
   ]
  },
  {
   "cell_type": "markdown",
   "metadata": {},
   "source": [
    "## Exploração Inicial"
   ]
  },
  {
   "cell_type": "code",
   "execution_count": 5,
   "metadata": {},
   "outputs": [
    {
     "data": {
      "text/html": [
       "<div>\n",
       "<style scoped>\n",
       "    .dataframe tbody tr th:only-of-type {\n",
       "        vertical-align: middle;\n",
       "    }\n",
       "\n",
       "    .dataframe tbody tr th {\n",
       "        vertical-align: top;\n",
       "    }\n",
       "\n",
       "    .dataframe thead th {\n",
       "        text-align: right;\n",
       "    }\n",
       "</style>\n",
       "<table border=\"1\" class=\"dataframe\">\n",
       "  <thead>\n",
       "    <tr style=\"text-align: right;\">\n",
       "      <th></th>\n",
       "      <th>C1</th>\n",
       "      <th>N1</th>\n",
       "      <th>C2</th>\n",
       "      <th>C3</th>\n",
       "      <th>N2</th>\n",
       "      <th>C4</th>\n",
       "      <th>C5</th>\n",
       "      <th>N3</th>\n",
       "      <th>C5.1</th>\n",
       "      <th>C6</th>\n",
       "      <th>...</th>\n",
       "      <th>C7</th>\n",
       "      <th>N5</th>\n",
       "      <th>C8</th>\n",
       "      <th>C9</th>\n",
       "      <th>N6</th>\n",
       "      <th>C10</th>\n",
       "      <th>N7</th>\n",
       "      <th>C11</th>\n",
       "      <th>C12</th>\n",
       "      <th>LABEL</th>\n",
       "    </tr>\n",
       "  </thead>\n",
       "  <tbody>\n",
       "    <tr>\n",
       "      <th>0</th>\n",
       "      <td>Z11</td>\n",
       "      <td>6</td>\n",
       "      <td>Z34</td>\n",
       "      <td>Z43</td>\n",
       "      <td>1169</td>\n",
       "      <td>Z65</td>\n",
       "      <td>Z75</td>\n",
       "      <td>4</td>\n",
       "      <td>Z93</td>\n",
       "      <td>Z101</td>\n",
       "      <td>...</td>\n",
       "      <td>Z121</td>\n",
       "      <td>67</td>\n",
       "      <td>Z143</td>\n",
       "      <td>Z152</td>\n",
       "      <td>2</td>\n",
       "      <td>Z173</td>\n",
       "      <td>1</td>\n",
       "      <td>Z192</td>\n",
       "      <td>Z201</td>\n",
       "      <td>1</td>\n",
       "    </tr>\n",
       "    <tr>\n",
       "      <th>1</th>\n",
       "      <td>Z12</td>\n",
       "      <td>48</td>\n",
       "      <td>Z32</td>\n",
       "      <td>Z43</td>\n",
       "      <td>5951</td>\n",
       "      <td>Z61</td>\n",
       "      <td>Z73</td>\n",
       "      <td>2</td>\n",
       "      <td>Z92</td>\n",
       "      <td>Z101</td>\n",
       "      <td>...</td>\n",
       "      <td>Z121</td>\n",
       "      <td>22</td>\n",
       "      <td>Z143</td>\n",
       "      <td>Z152</td>\n",
       "      <td>1</td>\n",
       "      <td>Z173</td>\n",
       "      <td>1</td>\n",
       "      <td>Z191</td>\n",
       "      <td>Z201</td>\n",
       "      <td>2</td>\n",
       "    </tr>\n",
       "    <tr>\n",
       "      <th>2</th>\n",
       "      <td>Z14</td>\n",
       "      <td>12</td>\n",
       "      <td>Z34</td>\n",
       "      <td>Z46</td>\n",
       "      <td>2096</td>\n",
       "      <td>Z61</td>\n",
       "      <td>Z74</td>\n",
       "      <td>2</td>\n",
       "      <td>Z93</td>\n",
       "      <td>Z101</td>\n",
       "      <td>...</td>\n",
       "      <td>Z121</td>\n",
       "      <td>49</td>\n",
       "      <td>Z143</td>\n",
       "      <td>Z152</td>\n",
       "      <td>1</td>\n",
       "      <td>Z172</td>\n",
       "      <td>2</td>\n",
       "      <td>Z191</td>\n",
       "      <td>Z201</td>\n",
       "      <td>1</td>\n",
       "    </tr>\n",
       "    <tr>\n",
       "      <th>3</th>\n",
       "      <td>Z11</td>\n",
       "      <td>42</td>\n",
       "      <td>Z32</td>\n",
       "      <td>Z42</td>\n",
       "      <td>7882</td>\n",
       "      <td>Z61</td>\n",
       "      <td>Z74</td>\n",
       "      <td>2</td>\n",
       "      <td>Z93</td>\n",
       "      <td>Z103</td>\n",
       "      <td>...</td>\n",
       "      <td>Z122</td>\n",
       "      <td>45</td>\n",
       "      <td>Z143</td>\n",
       "      <td>Z153</td>\n",
       "      <td>1</td>\n",
       "      <td>Z173</td>\n",
       "      <td>2</td>\n",
       "      <td>Z191</td>\n",
       "      <td>Z201</td>\n",
       "      <td>1</td>\n",
       "    </tr>\n",
       "    <tr>\n",
       "      <th>4</th>\n",
       "      <td>Z11</td>\n",
       "      <td>24</td>\n",
       "      <td>Z33</td>\n",
       "      <td>Z40</td>\n",
       "      <td>4870</td>\n",
       "      <td>Z61</td>\n",
       "      <td>Z73</td>\n",
       "      <td>3</td>\n",
       "      <td>Z93</td>\n",
       "      <td>Z101</td>\n",
       "      <td>...</td>\n",
       "      <td>Z124</td>\n",
       "      <td>53</td>\n",
       "      <td>Z143</td>\n",
       "      <td>Z153</td>\n",
       "      <td>2</td>\n",
       "      <td>Z173</td>\n",
       "      <td>2</td>\n",
       "      <td>Z191</td>\n",
       "      <td>Z201</td>\n",
       "      <td>2</td>\n",
       "    </tr>\n",
       "  </tbody>\n",
       "</table>\n",
       "<p>5 rows × 21 columns</p>\n",
       "</div>"
      ],
      "text/plain": [
       "    C1  N1   C2   C3    N2   C4   C5  N3 C5.1    C6  ...    C7  N5    C8  \\\n",
       "0  Z11   6  Z34  Z43  1169  Z65  Z75   4  Z93  Z101  ...  Z121  67  Z143   \n",
       "1  Z12  48  Z32  Z43  5951  Z61  Z73   2  Z92  Z101  ...  Z121  22  Z143   \n",
       "2  Z14  12  Z34  Z46  2096  Z61  Z74   2  Z93  Z101  ...  Z121  49  Z143   \n",
       "3  Z11  42  Z32  Z42  7882  Z61  Z74   2  Z93  Z103  ...  Z122  45  Z143   \n",
       "4  Z11  24  Z33  Z40  4870  Z61  Z73   3  Z93  Z101  ...  Z124  53  Z143   \n",
       "\n",
       "     C9 N6   C10 N7   C11   C12 LABEL  \n",
       "0  Z152  2  Z173  1  Z192  Z201     1  \n",
       "1  Z152  1  Z173  1  Z191  Z201     2  \n",
       "2  Z152  1  Z172  2  Z191  Z201     1  \n",
       "3  Z153  1  Z173  2  Z191  Z201     1  \n",
       "4  Z153  2  Z173  2  Z191  Z201     2  \n",
       "\n",
       "[5 rows x 21 columns]"
      ]
     },
     "execution_count": 5,
     "metadata": {},
     "output_type": "execute_result"
    }
   ],
   "source": [
    "df.head()"
   ]
  },
  {
   "cell_type": "code",
   "execution_count": 6,
   "metadata": {},
   "outputs": [
    {
     "data": {
      "text/plain": [
       "(1000, 21)"
      ]
     },
     "execution_count": 6,
     "metadata": {},
     "output_type": "execute_result"
    }
   ],
   "source": [
    "df.shape"
   ]
  },
  {
   "cell_type": "code",
   "execution_count": 7,
   "metadata": {},
   "outputs": [
    {
     "data": {
      "text/plain": [
       "1    700\n",
       "2    300\n",
       "Name: LABEL, dtype: int64"
      ]
     },
     "execution_count": 7,
     "metadata": {},
     "output_type": "execute_result"
    }
   ],
   "source": [
    "df['LABEL'].value_counts()"
   ]
  },
  {
   "cell_type": "code",
   "execution_count": 8,
   "metadata": {},
   "outputs": [
    {
     "name": "stdout",
     "output_type": "stream",
     "text": [
      "<class 'pandas.core.frame.DataFrame'>\n",
      "RangeIndex: 1000 entries, 0 to 999\n",
      "Data columns (total 21 columns):\n",
      "C1       1000 non-null object\n",
      "N1       1000 non-null int64\n",
      "C2       1000 non-null object\n",
      "C3       1000 non-null object\n",
      "N2       1000 non-null int64\n",
      "C4       1000 non-null object\n",
      "C5       1000 non-null object\n",
      "N3       1000 non-null int64\n",
      "C5.1     1000 non-null object\n",
      "C6       1000 non-null object\n",
      "N4       1000 non-null int64\n",
      "C7       1000 non-null object\n",
      "N5       1000 non-null int64\n",
      "C8       1000 non-null object\n",
      "C9       1000 non-null object\n",
      "N6       1000 non-null int64\n",
      "C10      1000 non-null object\n",
      "N7       1000 non-null int64\n",
      "C11      1000 non-null object\n",
      "C12      1000 non-null object\n",
      "LABEL    1000 non-null int64\n",
      "dtypes: int64(8), object(13)\n",
      "memory usage: 164.2+ KB\n"
     ]
    }
   ],
   "source": [
    "df.info()"
   ]
  },
  {
   "cell_type": "code",
   "execution_count": 9,
   "metadata": {},
   "outputs": [],
   "source": [
    "categorical_cols = [x for x in list(df) if x[0] == 'C']\n",
    "numerical_cols = [x for x in list(df) if x[0] == 'N']"
   ]
  },
  {
   "cell_type": "code",
   "execution_count": 10,
   "metadata": {},
   "outputs": [
    {
     "data": {
      "text/html": [
       "<div>\n",
       "<style scoped>\n",
       "    .dataframe tbody tr th:only-of-type {\n",
       "        vertical-align: middle;\n",
       "    }\n",
       "\n",
       "    .dataframe tbody tr th {\n",
       "        vertical-align: top;\n",
       "    }\n",
       "\n",
       "    .dataframe thead th {\n",
       "        text-align: right;\n",
       "    }\n",
       "</style>\n",
       "<table border=\"1\" class=\"dataframe\">\n",
       "  <thead>\n",
       "    <tr style=\"text-align: right;\">\n",
       "      <th></th>\n",
       "      <th>C1</th>\n",
       "      <th>C2</th>\n",
       "      <th>C3</th>\n",
       "      <th>C4</th>\n",
       "      <th>C5</th>\n",
       "      <th>C5.1</th>\n",
       "      <th>C6</th>\n",
       "      <th>C7</th>\n",
       "      <th>C8</th>\n",
       "      <th>C9</th>\n",
       "      <th>C10</th>\n",
       "      <th>C11</th>\n",
       "      <th>C12</th>\n",
       "    </tr>\n",
       "  </thead>\n",
       "  <tbody>\n",
       "    <tr>\n",
       "      <th>0</th>\n",
       "      <td>Z11</td>\n",
       "      <td>Z34</td>\n",
       "      <td>Z43</td>\n",
       "      <td>Z65</td>\n",
       "      <td>Z75</td>\n",
       "      <td>Z93</td>\n",
       "      <td>Z101</td>\n",
       "      <td>Z121</td>\n",
       "      <td>Z143</td>\n",
       "      <td>Z152</td>\n",
       "      <td>Z173</td>\n",
       "      <td>Z192</td>\n",
       "      <td>Z201</td>\n",
       "    </tr>\n",
       "    <tr>\n",
       "      <th>1</th>\n",
       "      <td>Z12</td>\n",
       "      <td>Z32</td>\n",
       "      <td>Z43</td>\n",
       "      <td>Z61</td>\n",
       "      <td>Z73</td>\n",
       "      <td>Z92</td>\n",
       "      <td>Z101</td>\n",
       "      <td>Z121</td>\n",
       "      <td>Z143</td>\n",
       "      <td>Z152</td>\n",
       "      <td>Z173</td>\n",
       "      <td>Z191</td>\n",
       "      <td>Z201</td>\n",
       "    </tr>\n",
       "    <tr>\n",
       "      <th>2</th>\n",
       "      <td>Z14</td>\n",
       "      <td>Z34</td>\n",
       "      <td>Z46</td>\n",
       "      <td>Z61</td>\n",
       "      <td>Z74</td>\n",
       "      <td>Z93</td>\n",
       "      <td>Z101</td>\n",
       "      <td>Z121</td>\n",
       "      <td>Z143</td>\n",
       "      <td>Z152</td>\n",
       "      <td>Z172</td>\n",
       "      <td>Z191</td>\n",
       "      <td>Z201</td>\n",
       "    </tr>\n",
       "    <tr>\n",
       "      <th>3</th>\n",
       "      <td>Z11</td>\n",
       "      <td>Z32</td>\n",
       "      <td>Z42</td>\n",
       "      <td>Z61</td>\n",
       "      <td>Z74</td>\n",
       "      <td>Z93</td>\n",
       "      <td>Z103</td>\n",
       "      <td>Z122</td>\n",
       "      <td>Z143</td>\n",
       "      <td>Z153</td>\n",
       "      <td>Z173</td>\n",
       "      <td>Z191</td>\n",
       "      <td>Z201</td>\n",
       "    </tr>\n",
       "    <tr>\n",
       "      <th>4</th>\n",
       "      <td>Z11</td>\n",
       "      <td>Z33</td>\n",
       "      <td>Z40</td>\n",
       "      <td>Z61</td>\n",
       "      <td>Z73</td>\n",
       "      <td>Z93</td>\n",
       "      <td>Z101</td>\n",
       "      <td>Z124</td>\n",
       "      <td>Z143</td>\n",
       "      <td>Z153</td>\n",
       "      <td>Z173</td>\n",
       "      <td>Z191</td>\n",
       "      <td>Z201</td>\n",
       "    </tr>\n",
       "  </tbody>\n",
       "</table>\n",
       "</div>"
      ],
      "text/plain": [
       "    C1   C2   C3   C4   C5 C5.1    C6    C7    C8    C9   C10   C11   C12\n",
       "0  Z11  Z34  Z43  Z65  Z75  Z93  Z101  Z121  Z143  Z152  Z173  Z192  Z201\n",
       "1  Z12  Z32  Z43  Z61  Z73  Z92  Z101  Z121  Z143  Z152  Z173  Z191  Z201\n",
       "2  Z14  Z34  Z46  Z61  Z74  Z93  Z101  Z121  Z143  Z152  Z172  Z191  Z201\n",
       "3  Z11  Z32  Z42  Z61  Z74  Z93  Z103  Z122  Z143  Z153  Z173  Z191  Z201\n",
       "4  Z11  Z33  Z40  Z61  Z73  Z93  Z101  Z124  Z143  Z153  Z173  Z191  Z201"
      ]
     },
     "execution_count": 10,
     "metadata": {},
     "output_type": "execute_result"
    }
   ],
   "source": [
    "df[categorical_cols].head()"
   ]
  },
  {
   "cell_type": "code",
   "execution_count": 11,
   "metadata": {},
   "outputs": [
    {
     "data": {
      "text/html": [
       "<div>\n",
       "<style scoped>\n",
       "    .dataframe tbody tr th:only-of-type {\n",
       "        vertical-align: middle;\n",
       "    }\n",
       "\n",
       "    .dataframe tbody tr th {\n",
       "        vertical-align: top;\n",
       "    }\n",
       "\n",
       "    .dataframe thead th {\n",
       "        text-align: right;\n",
       "    }\n",
       "</style>\n",
       "<table border=\"1\" class=\"dataframe\">\n",
       "  <thead>\n",
       "    <tr style=\"text-align: right;\">\n",
       "      <th></th>\n",
       "      <th>N1</th>\n",
       "      <th>N2</th>\n",
       "      <th>N3</th>\n",
       "      <th>N4</th>\n",
       "      <th>N5</th>\n",
       "      <th>N6</th>\n",
       "      <th>N7</th>\n",
       "    </tr>\n",
       "  </thead>\n",
       "  <tbody>\n",
       "    <tr>\n",
       "      <th>0</th>\n",
       "      <td>6</td>\n",
       "      <td>1169</td>\n",
       "      <td>4</td>\n",
       "      <td>4</td>\n",
       "      <td>67</td>\n",
       "      <td>2</td>\n",
       "      <td>1</td>\n",
       "    </tr>\n",
       "    <tr>\n",
       "      <th>1</th>\n",
       "      <td>48</td>\n",
       "      <td>5951</td>\n",
       "      <td>2</td>\n",
       "      <td>2</td>\n",
       "      <td>22</td>\n",
       "      <td>1</td>\n",
       "      <td>1</td>\n",
       "    </tr>\n",
       "    <tr>\n",
       "      <th>2</th>\n",
       "      <td>12</td>\n",
       "      <td>2096</td>\n",
       "      <td>2</td>\n",
       "      <td>3</td>\n",
       "      <td>49</td>\n",
       "      <td>1</td>\n",
       "      <td>2</td>\n",
       "    </tr>\n",
       "    <tr>\n",
       "      <th>3</th>\n",
       "      <td>42</td>\n",
       "      <td>7882</td>\n",
       "      <td>2</td>\n",
       "      <td>4</td>\n",
       "      <td>45</td>\n",
       "      <td>1</td>\n",
       "      <td>2</td>\n",
       "    </tr>\n",
       "    <tr>\n",
       "      <th>4</th>\n",
       "      <td>24</td>\n",
       "      <td>4870</td>\n",
       "      <td>3</td>\n",
       "      <td>4</td>\n",
       "      <td>53</td>\n",
       "      <td>2</td>\n",
       "      <td>2</td>\n",
       "    </tr>\n",
       "    <tr>\n",
       "      <th>...</th>\n",
       "      <td>...</td>\n",
       "      <td>...</td>\n",
       "      <td>...</td>\n",
       "      <td>...</td>\n",
       "      <td>...</td>\n",
       "      <td>...</td>\n",
       "      <td>...</td>\n",
       "    </tr>\n",
       "    <tr>\n",
       "      <th>995</th>\n",
       "      <td>12</td>\n",
       "      <td>1736</td>\n",
       "      <td>3</td>\n",
       "      <td>4</td>\n",
       "      <td>31</td>\n",
       "      <td>1</td>\n",
       "      <td>1</td>\n",
       "    </tr>\n",
       "    <tr>\n",
       "      <th>996</th>\n",
       "      <td>30</td>\n",
       "      <td>3857</td>\n",
       "      <td>4</td>\n",
       "      <td>4</td>\n",
       "      <td>40</td>\n",
       "      <td>1</td>\n",
       "      <td>1</td>\n",
       "    </tr>\n",
       "    <tr>\n",
       "      <th>997</th>\n",
       "      <td>12</td>\n",
       "      <td>804</td>\n",
       "      <td>4</td>\n",
       "      <td>4</td>\n",
       "      <td>38</td>\n",
       "      <td>1</td>\n",
       "      <td>1</td>\n",
       "    </tr>\n",
       "    <tr>\n",
       "      <th>998</th>\n",
       "      <td>45</td>\n",
       "      <td>1845</td>\n",
       "      <td>4</td>\n",
       "      <td>4</td>\n",
       "      <td>23</td>\n",
       "      <td>1</td>\n",
       "      <td>1</td>\n",
       "    </tr>\n",
       "    <tr>\n",
       "      <th>999</th>\n",
       "      <td>45</td>\n",
       "      <td>4576</td>\n",
       "      <td>3</td>\n",
       "      <td>4</td>\n",
       "      <td>27</td>\n",
       "      <td>1</td>\n",
       "      <td>1</td>\n",
       "    </tr>\n",
       "  </tbody>\n",
       "</table>\n",
       "<p>1000 rows × 7 columns</p>\n",
       "</div>"
      ],
      "text/plain": [
       "     N1    N2  N3  N4  N5  N6  N7\n",
       "0     6  1169   4   4  67   2   1\n",
       "1    48  5951   2   2  22   1   1\n",
       "2    12  2096   2   3  49   1   2\n",
       "3    42  7882   2   4  45   1   2\n",
       "4    24  4870   3   4  53   2   2\n",
       "..   ..   ...  ..  ..  ..  ..  ..\n",
       "995  12  1736   3   4  31   1   1\n",
       "996  30  3857   4   4  40   1   1\n",
       "997  12   804   4   4  38   1   1\n",
       "998  45  1845   4   4  23   1   1\n",
       "999  45  4576   3   4  27   1   1\n",
       "\n",
       "[1000 rows x 7 columns]"
      ]
     },
     "execution_count": 11,
     "metadata": {},
     "output_type": "execute_result"
    }
   ],
   "source": [
    "df[numerical_cols]"
   ]
  },
  {
   "cell_type": "code",
   "execution_count": 13,
   "metadata": {},
   "outputs": [
    {
     "data": {
      "text/html": [
       "<div>\n",
       "<style scoped>\n",
       "    .dataframe tbody tr th:only-of-type {\n",
       "        vertical-align: middle;\n",
       "    }\n",
       "\n",
       "    .dataframe tbody tr th {\n",
       "        vertical-align: top;\n",
       "    }\n",
       "\n",
       "    .dataframe thead th {\n",
       "        text-align: right;\n",
       "    }\n",
       "</style>\n",
       "<table border=\"1\" class=\"dataframe\">\n",
       "  <thead>\n",
       "    <tr style=\"text-align: right;\">\n",
       "      <th></th>\n",
       "      <th>N1</th>\n",
       "      <th>N2</th>\n",
       "      <th>N3</th>\n",
       "      <th>N4</th>\n",
       "      <th>N5</th>\n",
       "      <th>N6</th>\n",
       "      <th>N7</th>\n",
       "      <th>LABEL</th>\n",
       "    </tr>\n",
       "  </thead>\n",
       "  <tbody>\n",
       "    <tr>\n",
       "      <th>count</th>\n",
       "      <td>1000.000000</td>\n",
       "      <td>1000.000000</td>\n",
       "      <td>1000.000000</td>\n",
       "      <td>1000.000000</td>\n",
       "      <td>1000.000000</td>\n",
       "      <td>1000.000000</td>\n",
       "      <td>1000.000000</td>\n",
       "      <td>1000.000000</td>\n",
       "    </tr>\n",
       "    <tr>\n",
       "      <th>mean</th>\n",
       "      <td>20.903000</td>\n",
       "      <td>3271.258000</td>\n",
       "      <td>2.973000</td>\n",
       "      <td>2.845000</td>\n",
       "      <td>35.546000</td>\n",
       "      <td>1.407000</td>\n",
       "      <td>1.155000</td>\n",
       "      <td>1.300000</td>\n",
       "    </tr>\n",
       "    <tr>\n",
       "      <th>std</th>\n",
       "      <td>12.058814</td>\n",
       "      <td>2822.736876</td>\n",
       "      <td>1.118715</td>\n",
       "      <td>1.103718</td>\n",
       "      <td>11.375469</td>\n",
       "      <td>0.577654</td>\n",
       "      <td>0.362086</td>\n",
       "      <td>0.458487</td>\n",
       "    </tr>\n",
       "    <tr>\n",
       "      <th>min</th>\n",
       "      <td>4.000000</td>\n",
       "      <td>250.000000</td>\n",
       "      <td>1.000000</td>\n",
       "      <td>1.000000</td>\n",
       "      <td>19.000000</td>\n",
       "      <td>1.000000</td>\n",
       "      <td>1.000000</td>\n",
       "      <td>1.000000</td>\n",
       "    </tr>\n",
       "    <tr>\n",
       "      <th>25%</th>\n",
       "      <td>12.000000</td>\n",
       "      <td>1365.500000</td>\n",
       "      <td>2.000000</td>\n",
       "      <td>2.000000</td>\n",
       "      <td>27.000000</td>\n",
       "      <td>1.000000</td>\n",
       "      <td>1.000000</td>\n",
       "      <td>1.000000</td>\n",
       "    </tr>\n",
       "    <tr>\n",
       "      <th>50%</th>\n",
       "      <td>18.000000</td>\n",
       "      <td>2319.500000</td>\n",
       "      <td>3.000000</td>\n",
       "      <td>3.000000</td>\n",
       "      <td>33.000000</td>\n",
       "      <td>1.000000</td>\n",
       "      <td>1.000000</td>\n",
       "      <td>1.000000</td>\n",
       "    </tr>\n",
       "    <tr>\n",
       "      <th>75%</th>\n",
       "      <td>24.000000</td>\n",
       "      <td>3972.250000</td>\n",
       "      <td>4.000000</td>\n",
       "      <td>4.000000</td>\n",
       "      <td>42.000000</td>\n",
       "      <td>2.000000</td>\n",
       "      <td>1.000000</td>\n",
       "      <td>2.000000</td>\n",
       "    </tr>\n",
       "    <tr>\n",
       "      <th>max</th>\n",
       "      <td>72.000000</td>\n",
       "      <td>18424.000000</td>\n",
       "      <td>4.000000</td>\n",
       "      <td>4.000000</td>\n",
       "      <td>75.000000</td>\n",
       "      <td>4.000000</td>\n",
       "      <td>2.000000</td>\n",
       "      <td>2.000000</td>\n",
       "    </tr>\n",
       "  </tbody>\n",
       "</table>\n",
       "</div>"
      ],
      "text/plain": [
       "                N1            N2           N3           N4           N5  \\\n",
       "count  1000.000000   1000.000000  1000.000000  1000.000000  1000.000000   \n",
       "mean     20.903000   3271.258000     2.973000     2.845000    35.546000   \n",
       "std      12.058814   2822.736876     1.118715     1.103718    11.375469   \n",
       "min       4.000000    250.000000     1.000000     1.000000    19.000000   \n",
       "25%      12.000000   1365.500000     2.000000     2.000000    27.000000   \n",
       "50%      18.000000   2319.500000     3.000000     3.000000    33.000000   \n",
       "75%      24.000000   3972.250000     4.000000     4.000000    42.000000   \n",
       "max      72.000000  18424.000000     4.000000     4.000000    75.000000   \n",
       "\n",
       "                N6           N7        LABEL  \n",
       "count  1000.000000  1000.000000  1000.000000  \n",
       "mean      1.407000     1.155000     1.300000  \n",
       "std       0.577654     0.362086     0.458487  \n",
       "min       1.000000     1.000000     1.000000  \n",
       "25%       1.000000     1.000000     1.000000  \n",
       "50%       1.000000     1.000000     1.000000  \n",
       "75%       2.000000     1.000000     2.000000  \n",
       "max       4.000000     2.000000     2.000000  "
      ]
     },
     "execution_count": 13,
     "metadata": {},
     "output_type": "execute_result"
    }
   ],
   "source": [
    "df.describe()"
   ]
  },
  {
   "cell_type": "markdown",
   "metadata": {},
   "source": [
    "## Correlações"
   ]
  },
  {
   "cell_type": "code",
   "execution_count": 14,
   "metadata": {},
   "outputs": [
    {
     "data": {
      "text/html": [
       "<div>\n",
       "<style scoped>\n",
       "    .dataframe tbody tr th:only-of-type {\n",
       "        vertical-align: middle;\n",
       "    }\n",
       "\n",
       "    .dataframe tbody tr th {\n",
       "        vertical-align: top;\n",
       "    }\n",
       "\n",
       "    .dataframe thead th {\n",
       "        text-align: right;\n",
       "    }\n",
       "</style>\n",
       "<table border=\"1\" class=\"dataframe\">\n",
       "  <thead>\n",
       "    <tr style=\"text-align: right;\">\n",
       "      <th></th>\n",
       "      <th>N1</th>\n",
       "      <th>N2</th>\n",
       "      <th>N3</th>\n",
       "      <th>N4</th>\n",
       "      <th>N5</th>\n",
       "      <th>N6</th>\n",
       "      <th>N7</th>\n",
       "      <th>LABEL</th>\n",
       "    </tr>\n",
       "  </thead>\n",
       "  <tbody>\n",
       "    <tr>\n",
       "      <th>N1</th>\n",
       "      <td>1.000000</td>\n",
       "      <td>0.624984</td>\n",
       "      <td>0.074749</td>\n",
       "      <td>0.034067</td>\n",
       "      <td>-0.036136</td>\n",
       "      <td>-0.011284</td>\n",
       "      <td>-0.023834</td>\n",
       "      <td>0.214927</td>\n",
       "    </tr>\n",
       "    <tr>\n",
       "      <th>N2</th>\n",
       "      <td>0.624984</td>\n",
       "      <td>1.000000</td>\n",
       "      <td>-0.271316</td>\n",
       "      <td>0.028926</td>\n",
       "      <td>0.032716</td>\n",
       "      <td>0.020795</td>\n",
       "      <td>0.017142</td>\n",
       "      <td>0.154739</td>\n",
       "    </tr>\n",
       "    <tr>\n",
       "      <th>N3</th>\n",
       "      <td>0.074749</td>\n",
       "      <td>-0.271316</td>\n",
       "      <td>1.000000</td>\n",
       "      <td>0.049302</td>\n",
       "      <td>0.058266</td>\n",
       "      <td>0.021669</td>\n",
       "      <td>-0.071207</td>\n",
       "      <td>0.072404</td>\n",
       "    </tr>\n",
       "    <tr>\n",
       "      <th>N4</th>\n",
       "      <td>0.034067</td>\n",
       "      <td>0.028926</td>\n",
       "      <td>0.049302</td>\n",
       "      <td>1.000000</td>\n",
       "      <td>0.266419</td>\n",
       "      <td>0.089625</td>\n",
       "      <td>0.042643</td>\n",
       "      <td>0.002967</td>\n",
       "    </tr>\n",
       "    <tr>\n",
       "      <th>N5</th>\n",
       "      <td>-0.036136</td>\n",
       "      <td>0.032716</td>\n",
       "      <td>0.058266</td>\n",
       "      <td>0.266419</td>\n",
       "      <td>1.000000</td>\n",
       "      <td>0.149254</td>\n",
       "      <td>0.118201</td>\n",
       "      <td>-0.091127</td>\n",
       "    </tr>\n",
       "    <tr>\n",
       "      <th>N6</th>\n",
       "      <td>-0.011284</td>\n",
       "      <td>0.020795</td>\n",
       "      <td>0.021669</td>\n",
       "      <td>0.089625</td>\n",
       "      <td>0.149254</td>\n",
       "      <td>1.000000</td>\n",
       "      <td>0.109667</td>\n",
       "      <td>-0.045732</td>\n",
       "    </tr>\n",
       "    <tr>\n",
       "      <th>N7</th>\n",
       "      <td>-0.023834</td>\n",
       "      <td>0.017142</td>\n",
       "      <td>-0.071207</td>\n",
       "      <td>0.042643</td>\n",
       "      <td>0.118201</td>\n",
       "      <td>0.109667</td>\n",
       "      <td>1.000000</td>\n",
       "      <td>-0.003015</td>\n",
       "    </tr>\n",
       "    <tr>\n",
       "      <th>LABEL</th>\n",
       "      <td>0.214927</td>\n",
       "      <td>0.154739</td>\n",
       "      <td>0.072404</td>\n",
       "      <td>0.002967</td>\n",
       "      <td>-0.091127</td>\n",
       "      <td>-0.045732</td>\n",
       "      <td>-0.003015</td>\n",
       "      <td>1.000000</td>\n",
       "    </tr>\n",
       "  </tbody>\n",
       "</table>\n",
       "</div>"
      ],
      "text/plain": [
       "             N1        N2        N3        N4        N5        N6        N7  \\\n",
       "N1     1.000000  0.624984  0.074749  0.034067 -0.036136 -0.011284 -0.023834   \n",
       "N2     0.624984  1.000000 -0.271316  0.028926  0.032716  0.020795  0.017142   \n",
       "N3     0.074749 -0.271316  1.000000  0.049302  0.058266  0.021669 -0.071207   \n",
       "N4     0.034067  0.028926  0.049302  1.000000  0.266419  0.089625  0.042643   \n",
       "N5    -0.036136  0.032716  0.058266  0.266419  1.000000  0.149254  0.118201   \n",
       "N6    -0.011284  0.020795  0.021669  0.089625  0.149254  1.000000  0.109667   \n",
       "N7    -0.023834  0.017142 -0.071207  0.042643  0.118201  0.109667  1.000000   \n",
       "LABEL  0.214927  0.154739  0.072404  0.002967 -0.091127 -0.045732 -0.003015   \n",
       "\n",
       "          LABEL  \n",
       "N1     0.214927  \n",
       "N2     0.154739  \n",
       "N3     0.072404  \n",
       "N4     0.002967  \n",
       "N5    -0.091127  \n",
       "N6    -0.045732  \n",
       "N7    -0.003015  \n",
       "LABEL  1.000000  "
      ]
     },
     "execution_count": 14,
     "metadata": {},
     "output_type": "execute_result"
    }
   ],
   "source": [
    "df.corr()"
   ]
  },
  {
   "cell_type": "markdown",
   "metadata": {},
   "source": [
    "A Coluna N2 tem uma correlação com N1 demasiado alta. Tipicamente, a remoção de colunas com grande correlação ajuda na performance de vários modelos, ao mesmo tempo que reduz o número de dimensões e aumenta a interpretabilidade."
   ]
  },
  {
   "cell_type": "code",
   "execution_count": 8,
   "metadata": {},
   "outputs": [
    {
     "data": {
      "text/plain": [
       "<matplotlib.axes._subplots.AxesSubplot at 0x1f2229172e8>"
      ]
     },
     "execution_count": 8,
     "metadata": {},
     "output_type": "execute_result"
    },
    {
     "data": {
      "image/png": "[encoded data removed]",
      "text/plain": [
       "<Figure size 432x288 with 1 Axes>"
      ]
     },
     "metadata": {
      "needs_background": "light"
     },
     "output_type": "display_data"
    }
   ],
   "source": [
    "df['N2'].hist()"
   ]
  },
  {
   "cell_type": "markdown",
   "metadata": {},
   "source": [
    "A coluna N2 possui também um elevado números diferentes - possivelmente um ID? - como tal, e tendo em conta a sua correlação alta, deverá ser descartada para diminuir a segmentaçao dos dados."
   ]
  },
  {
   "cell_type": "markdown",
   "metadata": {},
   "source": [
    "## Distribuição de Variáveis Categóricas"
   ]
  },
  {
   "cell_type": "code",
   "execution_count": 26,
   "metadata": {},
   "outputs": [
    {
     "data": {
      "text/html": [
       "<div>\n",
       "<style scoped>\n",
       "    .dataframe tbody tr th:only-of-type {\n",
       "        vertical-align: middle;\n",
       "    }\n",
       "\n",
       "    .dataframe tbody tr th {\n",
       "        vertical-align: top;\n",
       "    }\n",
       "\n",
       "    .dataframe thead th {\n",
       "        text-align: right;\n",
       "    }\n",
       "</style>\n",
       "<table border=\"1\" class=\"dataframe\">\n",
       "  <thead>\n",
       "    <tr style=\"text-align: right;\">\n",
       "      <th></th>\n",
       "      <th>C1</th>\n",
       "      <th>C2</th>\n",
       "      <th>C3</th>\n",
       "      <th>C4</th>\n",
       "      <th>C5</th>\n",
       "      <th>C5.1</th>\n",
       "      <th>C6</th>\n",
       "      <th>C7</th>\n",
       "      <th>C8</th>\n",
       "      <th>C9</th>\n",
       "      <th>C10</th>\n",
       "      <th>C11</th>\n",
       "      <th>C12</th>\n",
       "    </tr>\n",
       "  </thead>\n",
       "  <tbody>\n",
       "    <tr>\n",
       "      <th>count</th>\n",
       "      <td>1000</td>\n",
       "      <td>1000</td>\n",
       "      <td>1000</td>\n",
       "      <td>1000</td>\n",
       "      <td>1000</td>\n",
       "      <td>1000</td>\n",
       "      <td>1000</td>\n",
       "      <td>1000</td>\n",
       "      <td>1000</td>\n",
       "      <td>1000</td>\n",
       "      <td>1000</td>\n",
       "      <td>1000</td>\n",
       "      <td>1000</td>\n",
       "    </tr>\n",
       "    <tr>\n",
       "      <th>unique</th>\n",
       "      <td>4</td>\n",
       "      <td>5</td>\n",
       "      <td>10</td>\n",
       "      <td>5</td>\n",
       "      <td>5</td>\n",
       "      <td>4</td>\n",
       "      <td>3</td>\n",
       "      <td>4</td>\n",
       "      <td>3</td>\n",
       "      <td>3</td>\n",
       "      <td>4</td>\n",
       "      <td>2</td>\n",
       "      <td>2</td>\n",
       "    </tr>\n",
       "    <tr>\n",
       "      <th>top</th>\n",
       "      <td>Z14</td>\n",
       "      <td>Z32</td>\n",
       "      <td>Z43</td>\n",
       "      <td>Z61</td>\n",
       "      <td>Z73</td>\n",
       "      <td>Z93</td>\n",
       "      <td>Z101</td>\n",
       "      <td>Z123</td>\n",
       "      <td>Z143</td>\n",
       "      <td>Z152</td>\n",
       "      <td>Z173</td>\n",
       "      <td>Z191</td>\n",
       "      <td>Z201</td>\n",
       "    </tr>\n",
       "    <tr>\n",
       "      <th>freq</th>\n",
       "      <td>394</td>\n",
       "      <td>530</td>\n",
       "      <td>280</td>\n",
       "      <td>603</td>\n",
       "      <td>339</td>\n",
       "      <td>548</td>\n",
       "      <td>907</td>\n",
       "      <td>332</td>\n",
       "      <td>814</td>\n",
       "      <td>713</td>\n",
       "      <td>630</td>\n",
       "      <td>596</td>\n",
       "      <td>963</td>\n",
       "    </tr>\n",
       "  </tbody>\n",
       "</table>\n",
       "</div>"
      ],
      "text/plain": [
       "          C1    C2    C3    C4    C5  C5.1    C6    C7    C8    C9   C10  \\\n",
       "count   1000  1000  1000  1000  1000  1000  1000  1000  1000  1000  1000   \n",
       "unique     4     5    10     5     5     4     3     4     3     3     4   \n",
       "top      Z14   Z32   Z43   Z61   Z73   Z93  Z101  Z123  Z143  Z152  Z173   \n",
       "freq     394   530   280   603   339   548   907   332   814   713   630   \n",
       "\n",
       "         C11   C12  \n",
       "count   1000  1000  \n",
       "unique     2     2  \n",
       "top     Z191  Z201  \n",
       "freq     596   963  "
      ]
     },
     "execution_count": 26,
     "metadata": {},
     "output_type": "execute_result"
    }
   ],
   "source": [
    "df.describe(include=['object'])"
   ]
  },
  {
   "cell_type": "markdown",
   "metadata": {},
   "source": [
    "Outra técnica que ajuda na performance de modelos de classificação, é a agregação dos valores de colunas categóricas. Isto ajuda a reduzir a segmentação da informação e aumenta a informação que o modelo pode adquirir."
   ]
  },
  {
   "cell_type": "code",
   "execution_count": 34,
   "metadata": {},
   "outputs": [
    {
     "data": {
      "text/plain": [
       "<matplotlib.axes._subplots.AxesSubplot at 0x238cfe911d0>"
      ]
     },
     "execution_count": 34,
     "metadata": {},
     "output_type": "execute_result"
    },
    {
     "data": {
      "image/png": "[encoded data removed]",
      "text/plain": [
       "<Figure size 432x288 with 1 Axes>"
      ]
     },
     "metadata": {
      "needs_background": "light"
     },
     "output_type": "display_data"
    }
   ],
   "source": [
    "df['C2'].hist()"
   ]
  },
  {
   "cell_type": "markdown",
   "metadata": {},
   "source": [
    "Para a variável C2, uma boa abordagem pode ser a substituição dos valores Z33, Z30 e Z31 pelo único valor Z33/Z30/Z31. A consequência desta abordagem é a redução nas escolhas por parte do utilizador final. É uma troca que deve ser discutida pelo cliente, de forma a avaliar qual o mais importante, se a performance do modelo, ou a informação que pode ser escolhida. Neste caso, sem acesso ao cliente final ou informação sobre o teor de cada coluna, vou optar por agrupar as seguintes colunas:"
   ]
  },
  {
   "cell_type": "code",
   "execution_count": 10,
   "metadata": {},
   "outputs": [
    {
     "data": {
      "text/plain": [
       "<matplotlib.axes._subplots.AxesSubplot at 0x1f224994da0>"
      ]
     },
     "execution_count": 10,
     "metadata": {},
     "output_type": "execute_result"
    },
    {
     "data": {
      "image/png": "[encoded data removed]",
      "text/plain": [
       "<Figure size 432x288 with 1 Axes>"
      ]
     },
     "metadata": {
      "needs_background": "light"
     },
     "output_type": "display_data"
    }
   ],
   "source": [
    "df['C4'].hist()"
   ]
  },
  {
   "cell_type": "markdown",
   "metadata": {},
   "source": [
    "Z62/Z63/Z64/Z65: ['Z62', 'Z63', 'Z64', 'Z65']"
   ]
  },
  {
   "cell_type": "code",
   "execution_count": 13,
   "metadata": {},
   "outputs": [
    {
     "data": {
      "text/plain": [
       "<matplotlib.axes._subplots.AxesSubplot at 0x1f224a8c4e0>"
      ]
     },
     "execution_count": 13,
     "metadata": {},
     "output_type": "execute_result"
    },
    {
     "data": {
      "image/png": "[encoded data removed]",
      "text/plain": [
       "<Figure size 432x288 with 1 Axes>"
      ]
     },
     "metadata": {
      "needs_background": "light"
     },
     "output_type": "display_data"
    }
   ],
   "source": [
    "df['C5.1'].hist()"
   ]
  },
  {
   "cell_type": "markdown",
   "metadata": {},
   "source": [
    "Z91/Z94: ['Z91', 'Z94']"
   ]
  },
  {
   "cell_type": "code",
   "execution_count": 16,
   "metadata": {},
   "outputs": [
    {
     "data": {
      "text/plain": [
       "<matplotlib.axes._subplots.AxesSubplot at 0x1f224d2ec50>"
      ]
     },
     "execution_count": 16,
     "metadata": {},
     "output_type": "execute_result"
    },
    {
     "data": {
      "image/png": "[encoded data removed]",
      "text/plain": [
       "<Figure size 432x288 with 1 Axes>"
      ]
     },
     "metadata": {
      "needs_background": "light"
     },
     "output_type": "display_data"
    }
   ],
   "source": [
    "df['C9'].hist()"
   ]
  },
  {
   "cell_type": "markdown",
   "metadata": {},
   "source": [
    "Z151/Z153: ['Z151', 'Z153']"
   ]
  },
  {
   "cell_type": "code",
   "execution_count": 17,
   "metadata": {},
   "outputs": [
    {
     "data": {
      "text/plain": [
       "<matplotlib.axes._subplots.AxesSubplot at 0x1f224d950b8>"
      ]
     },
     "execution_count": 17,
     "metadata": {},
     "output_type": "execute_result"
    },
    {
     "data": {
      "image/png": "[encoded data removed]",
      "text/plain": [
       "<Figure size 432x288 with 1 Axes>"
      ]
     },
     "metadata": {
      "needs_background": "light"
     },
     "output_type": "display_data"
    }
   ],
   "source": [
    "df['C10'].hist()"
   ]
  },
  {
   "cell_type": "markdown",
   "metadata": {},
   "source": [
    "Z171/Z172/Z174: ['Z171', 'Z172', 'Z174']"
   ]
  },
  {
   "cell_type": "markdown",
   "metadata": {},
   "source": [
    "## Outras técnicas"
   ]
  },
  {
   "cell_type": "markdown",
   "metadata": {},
   "source": [
    "Outras técnicas que vou implementar:\n",
    "    - Substituição da variável LABEL por uma binária;\n",
    "    - Oversample da classe minoritária;\n",
    "    - Substituição das variáveis categóricas usando One Hot Encoding;"
   ]
  }
 ],
 "metadata": {
  "kernelspec": {
   "display_name": "Python 3",
   "language": "python",
   "name": "python3"
  },
  "language_info": {
   "codemirror_mode": {
    "name": "ipython",
    "version": 3
   },
   "file_extension": ".py",
   "mimetype": "text/x-python",
   "name": "python",
   "nbconvert_exporter": "python",
   "pygments_lexer": "ipython3",
   "version": "3.6.5"
  }
 },
 "nbformat": 4,
 "nbformat_minor": 2
}
